{
 "cells": [
  {
   "cell_type": "code",
   "execution_count": 90,
   "metadata": {},
   "outputs": [],
   "source": [
    "import pygal\n",
    "from uuid import uuid4\n",
    "import yaml\n",
    "from pathlib import Path\n",
    "from string import capwords\n",
    "\n",
    "img_name = 'poop'\n",
    "\n",
    "try:\n",
    "    if Path(path).exists():\n",
    "        Path(path).unlink()\n",
    "except NameError:\n",
    "    pass\n",
    "\n",
    "def make_chart(data_yaml):\n",
    "    with open(data_yaml, 'r') as f:\n",
    "        data = yaml.load(f,  Loader=yaml.FullLoader)\n",
    "    assert 'data' in data, 'Must have at least \"data\" key'\n",
    "\n",
    "    # Default title\n",
    "    if not('title' in data):\n",
    "        data['title'] = capwords(Path(data_yaml)\\\n",
    "                                       .stem\\\n",
    "                                       .replace('-', ' ')\\\n",
    "                                       .replace('_', ' '))\n",
    "        \n",
    "    line_chart = pygal.Line(x_label_rotation=0,\n",
    "                            title   = data['title'],\n",
    "                            x_title = data.get('x_title',''),\n",
    "                            y_title = data.get('y_title',''),\n",
    "                            interpolate = data.get('interpolate', None),\n",
    "                            human_readable = True,\n",
    "                            \n",
    "                           )\n",
    "    #line_chart.title = data['title']\n",
    "    print(data.get('y_range', ()))\n",
    "    x_count = 0\n",
    "    for run, values in data['data'].items():\n",
    "        line_chart.add(run, values)\n",
    "        if len(values) > x_count:\n",
    "            x_count = len(values)\n",
    "\n",
    "    line_chart.x_labels = data.get('x_labels', range(x_count))\n",
    "    line_chart.y_labels = data.get('y_labels', [])\n",
    "    \n",
    "    path = img_name + '_' + str(str(uuid4())) + \".svg\"\n",
    "    #line_chart.render_to_file(path)\n",
    "    return line_chart\n",
    "\n",
    "from IPython.display import Markdown as md\n",
    "\n",
    "# data_yaml = 'test/train-acc.yaml'\n",
    "# path = make_chart(data_yaml)\n",
    "# md(f'![poop]({path})')"
   ]
  },
  {
   "cell_type": "code",
   "execution_count": 92,
   "metadata": {},
   "outputs": [
    {
     "name": "stdout",
     "output_type": "stream",
     "text": [
      "()\n"
     ]
    },
    {
     "data": {
      "text/plain": [
       "b'<?xml version=\\'1.0\\' encoding=\\'utf-8\\'?>\\n<svg xmlns=\"http://www.w3.org/2000/svg\" xmlns:xlink=\"http://www.w3.org/1999/xlink\" id=\"chart-03501e93-f147-49ac-9137-dbe257e4dcd8\" class=\"pygal-chart\" viewBox=\"0 0 800 600\"><!--Generated with pygal 2.4.0 (lxml) \\xc2\\xa9Kozea 2012-2016 on 2020-04-29--><!--http://pygal.org--><!--http://github.com/Kozea/pygal--><defs><style type=\"text/css\">#chart-03501e93-f147-49ac-9137-dbe257e4dcd8{-webkit-user-select:none;-webkit-font-smoothing:antialiased;font-family:Consolas,\"Liberation Mono\",Menlo,Courier,monospace}#chart-03501e93-f147-49ac-9137-dbe257e4dcd8 .title{font-family:Consolas,\"Liberation Mono\",Menlo,Courier,monospace;font-size:16px}#chart-03501e93-f147-49ac-9137-dbe257e4dcd8 .legends .legend text{font-family:Consolas,\"Liberation Mono\",Menlo,Courier,monospace;font-size:14px}#chart-03501e93-f147-49ac-9137-dbe257e4dcd8 .axis text{font-family:Consolas,\"Liberation Mono\",Menlo,Courier,monospace;font-size:10px}#chart-03501e93-f147-49ac-9137-dbe257e4dcd8 .axis text.major{font-family:Consolas,\"Liberation Mono\",Menlo,Courier,monospace;font-size:10px}#chart-03501e93-f147-49ac-9137-dbe257e4dcd8 .text-overlay text.value{font-family:Consolas,\"Liberation Mono\",Menlo,Courier,monospace;font-size:16px}#chart-03501e93-f147-49ac-9137-dbe257e4dcd8 .text-overlay text.label{font-family:Consolas,\"Liberation Mono\",Menlo,Courier,monospace;font-size:10px}#chart-03501e93-f147-49ac-9137-dbe257e4dcd8 .tooltip{font-family:Consolas,\"Liberation Mono\",Menlo,Courier,monospace;font-size:14px}#chart-03501e93-f147-49ac-9137-dbe257e4dcd8 text.no_data{font-family:Consolas,\"Liberation Mono\",Menlo,Courier,monospace;font-size:64px}\\n#chart-03501e93-f147-49ac-9137-dbe257e4dcd8{background-color:rgba(249,249,249,1)}#chart-03501e93-f147-49ac-9137-dbe257e4dcd8 path,#chart-03501e93-f147-49ac-9137-dbe257e4dcd8 line,#chart-03501e93-f147-49ac-9137-dbe257e4dcd8 rect,#chart-03501e93-f147-49ac-9137-dbe257e4dcd8 circle{-webkit-transition:150ms;-moz-transition:150ms;transition:150ms}#chart-03501e93-f147-49ac-9137-dbe257e4dcd8 .graph &gt; .background{fill:rgba(249,249,249,1)}#chart-03501e93-f147-49ac-9137-dbe257e4dcd8 .plot &gt; .background{fill:rgba(255,255,255,1)}#chart-03501e93-f147-49ac-9137-dbe257e4dcd8 .graph{fill:rgba(0,0,0,.87)}#chart-03501e93-f147-49ac-9137-dbe257e4dcd8 text.no_data{fill:rgba(0,0,0,1)}#chart-03501e93-f147-49ac-9137-dbe257e4dcd8 .title{fill:rgba(0,0,0,1)}#chart-03501e93-f147-49ac-9137-dbe257e4dcd8 .legends .legend text{fill:rgba(0,0,0,.87)}#chart-03501e93-f147-49ac-9137-dbe257e4dcd8 .legends .legend:hover text{fill:rgba(0,0,0,1)}#chart-03501e93-f147-49ac-9137-dbe257e4dcd8 .axis .line{stroke:rgba(0,0,0,1)}#chart-03501e93-f147-49ac-9137-dbe257e4dcd8 .axis .guide.line{stroke:rgba(0,0,0,.54)}#chart-03501e93-f147-49ac-9137-dbe257e4dcd8 .axis .major.line{stroke:rgba(0,0,0,.87)}#chart-03501e93-f147-49ac-9137-dbe257e4dcd8 .axis text.major{fill:rgba(0,0,0,1)}#chart-03501e93-f147-49ac-9137-dbe257e4dcd8 .axis.y .guides:hover .guide.line,#chart-03501e93-f147-49ac-9137-dbe257e4dcd8 .line-graph .axis.x .guides:hover .guide.line,#chart-03501e93-f147-49ac-9137-dbe257e4dcd8 .stackedline-graph .axis.x .guides:hover .guide.line,#chart-03501e93-f147-49ac-9137-dbe257e4dcd8 .xy-graph .axis.x .guides:hover .guide.line{stroke:rgba(0,0,0,1)}#chart-03501e93-f147-49ac-9137-dbe257e4dcd8 .axis .guides:hover text{fill:rgba(0,0,0,1)}#chart-03501e93-f147-49ac-9137-dbe257e4dcd8 .reactive{fill-opacity:.7;stroke-opacity:.8}#chart-03501e93-f147-49ac-9137-dbe257e4dcd8 .ci{stroke:rgba(0,0,0,.87)}#chart-03501e93-f147-49ac-9137-dbe257e4dcd8 .reactive.active,#chart-03501e93-f147-49ac-9137-dbe257e4dcd8 .active .reactive{fill-opacity:.8;stroke-opacity:.9;stroke-width:4}#chart-03501e93-f147-49ac-9137-dbe257e4dcd8 .ci .reactive.active{stroke-width:1.5}#chart-03501e93-f147-49ac-9137-dbe257e4dcd8 .series text{fill:rgba(0,0,0,1)}#chart-03501e93-f147-49ac-9137-dbe257e4dcd8 .tooltip rect{fill:rgba(255,255,255,1);stroke:rgba(0,0,0,1);-webkit-transition:opacity 150ms;-moz-transition:opacity 150ms;transition:opacity 150ms}#chart-03501e93-f147-49ac-9137-dbe257e4dcd8 .tooltip .label{fill:rgba(0,0,0,.87)}#chart-03501e93-f147-49ac-9137-dbe257e4dcd8 .tooltip .label{fill:rgba(0,0,0,.87)}#chart-03501e93-f147-49ac-9137-dbe257e4dcd8 .tooltip .legend{font-size:.8em;fill:rgba(0,0,0,.54)}#chart-03501e93-f147-49ac-9137-dbe257e4dcd8 .tooltip .x_label{font-size:.6em;fill:rgba(0,0,0,1)}#chart-03501e93-f147-49ac-9137-dbe257e4dcd8 .tooltip .xlink{font-size:.5em;text-decoration:underline}#chart-03501e93-f147-49ac-9137-dbe257e4dcd8 .tooltip .value{font-size:1.5em}#chart-03501e93-f147-49ac-9137-dbe257e4dcd8 .bound{font-size:.5em}#chart-03501e93-f147-49ac-9137-dbe257e4dcd8 .max-value{font-size:.75em;fill:rgba(0,0,0,.54)}#chart-03501e93-f147-49ac-9137-dbe257e4dcd8 .map-element{fill:rgba(255,255,255,1);stroke:rgba(0,0,0,.54) !important}#chart-03501e93-f147-49ac-9137-dbe257e4dcd8 .map-element .reactive{fill-opacity:inherit;stroke-opacity:inherit}#chart-03501e93-f147-49ac-9137-dbe257e4dcd8 .color-0,#chart-03501e93-f147-49ac-9137-dbe257e4dcd8 .color-0 a:visited{stroke:#F44336;fill:#F44336}#chart-03501e93-f147-49ac-9137-dbe257e4dcd8 .color-1,#chart-03501e93-f147-49ac-9137-dbe257e4dcd8 .color-1 a:visited{stroke:#3F51B5;fill:#3F51B5}#chart-03501e93-f147-49ac-9137-dbe257e4dcd8 .color-2,#chart-03501e93-f147-49ac-9137-dbe257e4dcd8 .color-2 a:visited{stroke:#009688;fill:#009688}#chart-03501e93-f147-49ac-9137-dbe257e4dcd8 .color-3,#chart-03501e93-f147-49ac-9137-dbe257e4dcd8 .color-3 a:visited{stroke:#FFC107;fill:#FFC107}#chart-03501e93-f147-49ac-9137-dbe257e4dcd8 .text-overlay .color-0 text{fill:black}#chart-03501e93-f147-49ac-9137-dbe257e4dcd8 .text-overlay .color-1 text{fill:black}#chart-03501e93-f147-49ac-9137-dbe257e4dcd8 .text-overlay .color-2 text{fill:black}#chart-03501e93-f147-49ac-9137-dbe257e4dcd8 .text-overlay .color-3 text{fill:black}\\n#chart-03501e93-f147-49ac-9137-dbe257e4dcd8 text.no_data{text-anchor:middle}#chart-03501e93-f147-49ac-9137-dbe257e4dcd8 .guide.line{fill:none}#chart-03501e93-f147-49ac-9137-dbe257e4dcd8 .centered{text-anchor:middle}#chart-03501e93-f147-49ac-9137-dbe257e4dcd8 .title{text-anchor:middle}#chart-03501e93-f147-49ac-9137-dbe257e4dcd8 .legends .legend text{fill-opacity:1}#chart-03501e93-f147-49ac-9137-dbe257e4dcd8 .axis.x text{text-anchor:middle}#chart-03501e93-f147-49ac-9137-dbe257e4dcd8 .axis.x:not(.web) text[transform]{text-anchor:start}#chart-03501e93-f147-49ac-9137-dbe257e4dcd8 .axis.x:not(.web) text[transform].backwards{text-anchor:end}#chart-03501e93-f147-49ac-9137-dbe257e4dcd8 .axis.y text{text-anchor:end}#chart-03501e93-f147-49ac-9137-dbe257e4dcd8 .axis.y text[transform].backwards{text-anchor:start}#chart-03501e93-f147-49ac-9137-dbe257e4dcd8 .axis.y2 text{text-anchor:start}#chart-03501e93-f147-49ac-9137-dbe257e4dcd8 .axis.y2 text[transform].backwards{text-anchor:end}#chart-03501e93-f147-49ac-9137-dbe257e4dcd8 .axis .guide.line{stroke-dasharray:4,4}#chart-03501e93-f147-49ac-9137-dbe257e4dcd8 .axis .major.guide.line{stroke-dasharray:6,6}#chart-03501e93-f147-49ac-9137-dbe257e4dcd8 .horizontal .axis.y .guide.line,#chart-03501e93-f147-49ac-9137-dbe257e4dcd8 .horizontal .axis.y2 .guide.line,#chart-03501e93-f147-49ac-9137-dbe257e4dcd8 .vertical .axis.x .guide.line{opacity:0}#chart-03501e93-f147-49ac-9137-dbe257e4dcd8 .horizontal .axis.always_show .guide.line,#chart-03501e93-f147-49ac-9137-dbe257e4dcd8 .vertical .axis.always_show .guide.line{opacity:1 !important}#chart-03501e93-f147-49ac-9137-dbe257e4dcd8 .axis.y .guides:hover .guide.line,#chart-03501e93-f147-49ac-9137-dbe257e4dcd8 .axis.y2 .guides:hover .guide.line,#chart-03501e93-f147-49ac-9137-dbe257e4dcd8 .axis.x .guides:hover .guide.line{opacity:1}#chart-03501e93-f147-49ac-9137-dbe257e4dcd8 .axis .guides:hover text{opacity:1}#chart-03501e93-f147-49ac-9137-dbe257e4dcd8 .nofill{fill:none}#chart-03501e93-f147-49ac-9137-dbe257e4dcd8 .subtle-fill{fill-opacity:.2}#chart-03501e93-f147-49ac-9137-dbe257e4dcd8 .dot{stroke-width:1px;fill-opacity:1}#chart-03501e93-f147-49ac-9137-dbe257e4dcd8 .dot.active{stroke-width:5px}#chart-03501e93-f147-49ac-9137-dbe257e4dcd8 .dot.negative{fill:transparent}#chart-03501e93-f147-49ac-9137-dbe257e4dcd8 text,#chart-03501e93-f147-49ac-9137-dbe257e4dcd8 tspan{stroke:none !important}#chart-03501e93-f147-49ac-9137-dbe257e4dcd8 .series text.active{opacity:1}#chart-03501e93-f147-49ac-9137-dbe257e4dcd8 .tooltip rect{fill-opacity:.95;stroke-width:.5}#chart-03501e93-f147-49ac-9137-dbe257e4dcd8 .tooltip text{fill-opacity:1}#chart-03501e93-f147-49ac-9137-dbe257e4dcd8 .showable{visibility:hidden}#chart-03501e93-f147-49ac-9137-dbe257e4dcd8 .showable.shown{visibility:visible}#chart-03501e93-f147-49ac-9137-dbe257e4dcd8 .gauge-background{fill:rgba(229,229,229,1);stroke:none}#chart-03501e93-f147-49ac-9137-dbe257e4dcd8 .bg-lines{stroke:rgba(249,249,249,1);stroke-width:2px}</style><script type=\"text/javascript\">window.pygal = window.pygal || {};window.pygal.config = window.pygal.config || {};window.pygal.config[\\'03501e93-f147-49ac-9137-dbe257e4dcd8\\'] = {\"allow_interruptions\": false, \"box_mode\": \"extremes\", \"classes\": [\"pygal-chart\"], \"css\": [\"file://style.css\", \"file://graph.css\"], \"defs\": [], \"disable_xml_declaration\": false, \"dots_size\": 2.5, \"dynamic_print_values\": false, \"explicit_size\": false, \"fill\": false, \"force_uri_protocol\": \"https\", \"formatter\": null, \"half_pie\": false, \"height\": 600, \"include_x_axis\": false, \"inner_radius\": 0, \"interpolate\": null, \"interpolation_parameters\": {}, \"interpolation_precision\": 250, \"inverse_y_axis\": false, \"js\": [\"//kozea.github.io/pygal.js/2.0.x/pygal-tooltips.min.js\"], \"legend_at_bottom\": false, \"legend_at_bottom_columns\": null, \"legend_box_size\": 12, \"logarithmic\": false, \"margin\": 20, \"margin_bottom\": null, \"margin_left\": null, \"margin_right\": null, \"margin_top\": null, \"max_scale\": 16, \"min_scale\": 4, \"missing_value_fill_truncation\": \"x\", \"no_data_text\": \"No data\", \"no_prefix\": false, \"order_min\": null, \"pretty_print\": false, \"print_labels\": false, \"print_values\": false, \"print_values_position\": \"center\", \"print_zeroes\": true, \"range\": null, \"rounded_bars\": null, \"secondary_range\": null, \"show_dots\": true, \"show_legend\": true, \"show_minor_x_labels\": true, \"show_minor_y_labels\": true, \"show_only_major_dots\": false, \"show_x_guides\": false, \"show_x_labels\": true, \"show_y_guides\": true, \"show_y_labels\": true, \"spacing\": 10, \"stack_from_top\": false, \"strict\": false, \"stroke\": true, \"stroke_style\": null, \"style\": {\"background\": \"rgba(249, 249, 249, 1)\", \"ci_colors\": [], \"colors\": [\"#F44336\", \"#3F51B5\", \"#009688\", \"#FFC107\", \"#FF5722\", \"#9C27B0\", \"#03A9F4\", \"#8BC34A\", \"#FF9800\", \"#E91E63\", \"#2196F3\", \"#4CAF50\", \"#FFEB3B\", \"#673AB7\", \"#00BCD4\", \"#CDDC39\", \"#9E9E9E\", \"#607D8B\"], \"font_family\": \"Consolas, \\\\\"Liberation Mono\\\\\", Menlo, Courier, monospace\", \"foreground\": \"rgba(0, 0, 0, .87)\", \"foreground_strong\": \"rgba(0, 0, 0, 1)\", \"foreground_subtle\": \"rgba(0, 0, 0, .54)\", \"guide_stroke_dasharray\": \"4,4\", \"label_font_family\": \"Consolas, \\\\\"Liberation Mono\\\\\", Menlo, Courier, monospace\", \"label_font_size\": 10, \"legend_font_family\": \"Consolas, \\\\\"Liberation Mono\\\\\", Menlo, Courier, monospace\", \"legend_font_size\": 14, \"major_guide_stroke_dasharray\": \"6,6\", \"major_label_font_family\": \"Consolas, \\\\\"Liberation Mono\\\\\", Menlo, Courier, monospace\", \"major_label_font_size\": 10, \"no_data_font_family\": \"Consolas, \\\\\"Liberation Mono\\\\\", Menlo, Courier, monospace\", \"no_data_font_size\": 64, \"opacity\": \".7\", \"opacity_hover\": \".8\", \"plot_background\": \"rgba(255, 255, 255, 1)\", \"stroke_opacity\": \".8\", \"stroke_opacity_hover\": \".9\", \"title_font_family\": \"Consolas, \\\\\"Liberation Mono\\\\\", Menlo, Courier, monospace\", \"title_font_size\": 16, \"tooltip_font_family\": \"Consolas, \\\\\"Liberation Mono\\\\\", Menlo, Courier, monospace\", \"tooltip_font_size\": 14, \"transition\": \"150ms\", \"value_background\": \"rgba(229, 229, 229, 1)\", \"value_colors\": [], \"value_font_family\": \"Consolas, \\\\\"Liberation Mono\\\\\", Menlo, Courier, monospace\", \"value_font_size\": 16, \"value_label_font_family\": \"Consolas, \\\\\"Liberation Mono\\\\\", Menlo, Courier, monospace\", \"value_label_font_size\": 10}, \"title\": \"Train Accuracy\", \"tooltip_border_radius\": 0, \"tooltip_fancy_mode\": true, \"truncate_label\": null, \"truncate_legend\": null, \"width\": 800, \"x_label_rotation\": 0, \"x_labels\": [\"a\", \"b\", \"c\", \"d\", \"e\", \"f\", \"g\"], \"x_labels_major\": null, \"x_labels_major_count\": null, \"x_labels_major_every\": null, \"x_title\": \"Accuracy\", \"xrange\": null, \"y_label_rotation\": 0, \"y_labels\": [\"a\", \"b\", \"c\", \"d\", \"e\", \"f\", \"g\", \"h\", \"i\"], \"y_labels_major\": null, \"y_labels_major_count\": null, \"y_labels_major_every\": null, \"y_title\": \"Poop\", \"zero\": 0, \"legends\": [\"run-01\", \"run-02\", \"run-03\", \"run-04\"]}</script><script type=\"text/javascript\" xlink:href=\"https://kozea.github.io/pygal.js/2.0.x/pygal-tooltips.min.js\"/></defs><title>Train Accuracy</title><g class=\"graph line-graph vertical\"><rect x=\"0\" y=\"0\" width=\"800\" height=\"600\" class=\"background\"/><g transform=\"translate(138, 46)\" class=\"plot\"><rect x=\"0\" y=\"0\" width=\"641.6\" height=\"488\" class=\"background\"/><g class=\"axis y always_show\"><path d=\"M0.000000 488.000000 h641.600000\" class=\"line\"/><g class=\"guides\"><path d=\"M0.000000 463.093734 h641.600000\" class=\"guide line\"/><text x=\"-5\" y=\"466.5937337056281\" class=\"\">a</text><title>0.12</title></g><g class=\"guides\"><path d=\"M0.000000 415.334876 h641.600000\" class=\"guide line\"/><text x=\"-5\" y=\"418.8348761490481\" class=\"\">b</text><title>0.16</title></g><g class=\"guides\"><path d=\"M0.000000 367.576019 h641.600000\" class=\"guide line\"/><text x=\"-5\" y=\"371.0760185924681\" class=\"\">c</text><title>0.2</title></g><g class=\"guides\"><path d=\"M0.000000 319.817161 h641.600000\" class=\"guide line\"/><text x=\"-5\" y=\"323.3171610358881\" class=\"\">d</text><title>0.24</title></g><g class=\"guides\"><path d=\"M0.000000 272.058303 h641.600000\" class=\"guide line\"/><text x=\"-5\" y=\"275.55830347930805\" class=\"\">e</text><title>0.28</title></g><g class=\"guides\"><path d=\"M0.000000 224.299446 h641.600000\" class=\"guide line\"/><text x=\"-5\" y=\"227.79944592272807\" class=\"\">f</text><title>0.32</title></g><g class=\"guides\"><path d=\"M0.000000 176.540588 h641.600000\" class=\"guide line\"/><text x=\"-5\" y=\"180.04058836614809\" class=\"\">g</text><title>0.36</title></g><g class=\"guides\"><path d=\"M0.000000 128.781731 h641.600000\" class=\"guide line\"/><text x=\"-5\" y=\"132.281730809568\" class=\"\">h</text><title>0.4</title></g><g class=\"guides\"><path d=\"M0.000000 81.022873 h641.600000\" class=\"guide line\"/><text x=\"-5\" y=\"84.52287325298806\" class=\"\">i</text><title>0.44</title></g></g><g class=\"axis x\"><g class=\"guides\"><path d=\"M12.338462 0.000000 v488.000000\" class=\"line\"/><text x=\"12.338461538461539\" y=\"503.0\" class=\"\">a</text></g><g class=\"guides\"><path d=\"M74.030769 0.000000 v488.000000\" class=\"guide line\"/><text x=\"74.03076923076924\" y=\"503.0\" class=\"\">b</text></g><g class=\"guides\"><path d=\"M135.723077 0.000000 v488.000000\" class=\"guide line\"/><text x=\"135.72307692307695\" y=\"503.0\" class=\"\">c</text></g><g class=\"guides\"><path d=\"M197.415385 0.000000 v488.000000\" class=\"guide line\"/><text x=\"197.41538461538462\" y=\"503.0\" class=\"\">d</text></g><g class=\"guides\"><path d=\"M259.107692 0.000000 v488.000000\" class=\"guide line\"/><text x=\"259.10769230769233\" y=\"503.0\" class=\"\">e</text></g><g class=\"guides\"><path d=\"M320.800000 0.000000 v488.000000\" class=\"guide line\"/><text x=\"320.8\" y=\"503.0\" class=\"\">f</text></g><g class=\"guides\"><path d=\"M382.492308 0.000000 v488.000000\" class=\"guide line\"/><text x=\"382.4923076923077\" y=\"503.0\" class=\"\">g</text></g></g><g class=\"series serie-0 color-0\"><path d=\"M12.338462 372.351914 L74.030769 478.615385 135.723077 422.498738 197.415385 380.709706 259.107692 367.576047 320.800000 467.869609 382.492308 446.378115\" class=\"line reactive nofill\"/></g><g class=\"series serie-1 color-1\"><path d=\"M12.338462 252.954770 L74.030769 359.218241 135.723077 303.101594 197.415385 261.312562 259.107692 248.178903 320.800000 348.472465 382.492308 326.980971\" class=\"line reactive nofill\"/></g><g class=\"series serie-2 color-2\"><path d=\"M12.338462 133.557626 L74.030769 239.821097 135.723077 183.704450 197.415385 141.915418 259.107692 128.781759 320.800000 229.075321 382.492308 207.583828\" class=\"line reactive nofill\"/></g><g class=\"series serie-3 color-3\"><path d=\"M12.338462 14.160482 L74.030769 120.423953 135.723077 120.423953 197.415385 120.423953 259.107692 120.423953 320.800000 120.423953 382.492308 64.307306 444.184615 22.518274 505.876923 9.384615 567.569231 109.678178 629.261538 88.186684\" class=\"line reactive nofill\"/></g></g><g class=\"titles\"><text x=\"400.0\" y=\"26\" class=\"title plot_title\">Train Accuracy</text><text x=\"459.2\" y=\"580\" class=\"title\">Accuracy</text><text x=\"72.39999999999999\" y=\"316.0\" class=\"title\" transform=\"rotate(-90 72.400000 290.000000)\">Poop</text></g><g transform=\"translate(138, 46)\" class=\"plot overlay\"><g class=\"series serie-0 color-0\"><g class=\"dots\"><circle cx=\"12.338461538461539\" cy=\"372.35191402673524\" r=\"2.5\" class=\"dot reactive tooltip-trigger\"/><desc class=\"value\">0.1959999919</desc><desc class=\"x top\">12.338461538461539</desc><desc class=\"y top\">372.35191402673524</desc><desc class=\"x_label\">a</desc></g><g class=\"dots\"><circle cx=\"74.03076923076924\" cy=\"478.61538461538464\" r=\"2.5\" class=\"dot reactive tooltip-trigger\"/><desc class=\"value\">0.1069999814</desc><desc class=\"x top\">74.03076923076924</desc><desc class=\"y top\">478.61538461538464</desc><desc class=\"x_label\">b</desc></g><g class=\"dots\"><circle cx=\"135.72307692307695\" cy=\"422.4987378036721\" r=\"2.5\" class=\"dot reactive tooltip-trigger\"/><desc class=\"value\">0.1539999723</desc><desc class=\"x top\">135.72307692307695</desc><desc class=\"y top\">422.4987378036721</desc><desc class=\"x_label\">c</desc></g><g class=\"dots\"><circle cx=\"197.41538461538462\" cy=\"380.7097061285175\" r=\"2.5\" class=\"dot reactive tooltip-trigger\"/><desc class=\"value\">0.1889999986</desc><desc class=\"x top\">197.41538461538462</desc><desc class=\"y top\">380.7097061285175</desc><desc class=\"x_label\">d</desc></g><g class=\"dots\"><circle cx=\"259.10769230769233\" cy=\"367.57604705896546\" r=\"2.5\" class=\"dot reactive tooltip-trigger\"/><desc class=\"value\">0.1999999762</desc><desc class=\"x top\">259.10769230769233</desc><desc class=\"y top\">367.57604705896546</desc><desc class=\"x_label\">e</desc></g><g class=\"dots\"><circle cx=\"320.8\" cy=\"467.86960921334713\" r=\"2.5\" class=\"dot reactive tooltip-trigger\"/><desc class=\"value\">0.1160000086</desc><desc class=\"x top\">320.8</desc><desc class=\"y top\">467.86960921334713</desc><desc class=\"x_label\">f</desc></g><g class=\"dots\"><circle cx=\"382.4923076923077\" cy=\"446.3781153422667\" r=\"2.5\" class=\"dot reactive tooltip-trigger\"/><desc class=\"value\">0.1340000153</desc><desc class=\"x left top\">382.4923076923077</desc><desc class=\"y left top\">446.3781153422667</desc><desc class=\"x_label\">g</desc></g></g><g class=\"series serie-1 color-1\"><g class=\"dots\"><circle cx=\"12.338461538461539\" cy=\"252.9547701352852\" r=\"2.5\" class=\"dot reactive tooltip-trigger\"/><desc class=\"value\">0.2959999919</desc><desc class=\"x top\">12.338461538461539</desc><desc class=\"y top\">252.9547701352852</desc><desc class=\"x_label\">a</desc></g><g class=\"dots\"><circle cx=\"74.03076923076924\" cy=\"359.2182407239346\" r=\"2.5\" class=\"dot reactive tooltip-trigger\"/><desc class=\"value\">0.2069999814</desc><desc class=\"x top\">74.03076923076924</desc><desc class=\"y top\">359.2182407239346</desc><desc class=\"x_label\">b</desc></g><g class=\"dots\"><circle cx=\"135.72307692307695\" cy=\"303.10159391222214\" r=\"2.5\" class=\"dot reactive tooltip-trigger\"/><desc class=\"value\">0.2539999723</desc><desc class=\"x top\">135.72307692307695</desc><desc class=\"y top\">303.10159391222214</desc><desc class=\"x_label\">c</desc></g><g class=\"dots\"><circle cx=\"197.41538461538462\" cy=\"261.3125622370675\" r=\"2.5\" class=\"dot reactive tooltip-trigger\"/><desc class=\"value\">0.2889999986</desc><desc class=\"x top\">197.41538461538462</desc><desc class=\"y top\">261.3125622370675</desc><desc class=\"x_label\">d</desc></g><g class=\"dots\"><circle cx=\"259.10769230769233\" cy=\"248.17890316751544\" r=\"2.5\" class=\"dot reactive tooltip-trigger\"/><desc class=\"value\">0.2999999762</desc><desc class=\"x top\">259.10769230769233</desc><desc class=\"y top\">248.17890316751544</desc><desc class=\"x_label\">e</desc></g><g class=\"dots\"><circle cx=\"320.8\" cy=\"348.47246532189706\" r=\"2.5\" class=\"dot reactive tooltip-trigger\"/><desc class=\"value\">0.2160000086</desc><desc class=\"x top\">320.8</desc><desc class=\"y top\">348.47246532189706</desc><desc class=\"x_label\">f</desc></g><g class=\"dots\"><circle cx=\"382.4923076923077\" cy=\"326.9809714508167\" r=\"2.5\" class=\"dot reactive tooltip-trigger\"/><desc class=\"value\">0.2340000153</desc><desc class=\"x left top\">382.4923076923077</desc><desc class=\"y left top\">326.9809714508167</desc><desc class=\"x_label\">g</desc></g></g><g class=\"series serie-2 color-2\"><g class=\"dots\"><circle cx=\"12.338461538461539\" cy=\"133.55762624383522\" r=\"2.5\" class=\"dot reactive tooltip-trigger\"/><desc class=\"value\">0.3959999919</desc><desc class=\"x \">12.338461538461539</desc><desc class=\"y \">133.55762624383522</desc><desc class=\"x_label\">a</desc></g><g class=\"dots\"><circle cx=\"74.03076923076924\" cy=\"239.8210968324846\" r=\"2.5\" class=\"dot reactive tooltip-trigger\"/><desc class=\"value\">0.3069999814</desc><desc class=\"x \">74.03076923076924</desc><desc class=\"y \">239.8210968324846</desc><desc class=\"x_label\">b</desc></g><g class=\"dots\"><circle cx=\"135.72307692307695\" cy=\"183.70445002077201\" r=\"2.5\" class=\"dot reactive tooltip-trigger\"/><desc class=\"value\">0.3539999723</desc><desc class=\"x \">135.72307692307695</desc><desc class=\"y \">183.70445002077201</desc><desc class=\"x_label\">c</desc></g><g class=\"dots\"><circle cx=\"197.41538461538462\" cy=\"141.9154183456174\" r=\"2.5\" class=\"dot reactive tooltip-trigger\"/><desc class=\"value\">0.3889999986</desc><desc class=\"x \">197.41538461538462</desc><desc class=\"y \">141.9154183456174</desc><desc class=\"x_label\">d</desc></g><g class=\"dots\"><circle cx=\"259.10769230769233\" cy=\"128.78175927606543\" r=\"2.5\" class=\"dot reactive tooltip-trigger\"/><desc class=\"value\">0.3999999762</desc><desc class=\"x \">259.10769230769233</desc><desc class=\"y \">128.78175927606543</desc><desc class=\"x_label\">e</desc></g><g class=\"dots\"><circle cx=\"320.8\" cy=\"229.07532143044705\" r=\"2.5\" class=\"dot reactive tooltip-trigger\"/><desc class=\"value\">0.3160000086</desc><desc class=\"x \">320.8</desc><desc class=\"y \">229.07532143044705</desc><desc class=\"x_label\">f</desc></g><g class=\"dots\"><circle cx=\"382.4923076923077\" cy=\"207.58382755936674\" r=\"2.5\" class=\"dot reactive tooltip-trigger\"/><desc class=\"value\">0.3340000153</desc><desc class=\"x left\">382.4923076923077</desc><desc class=\"y left\">207.58382755936674</desc><desc class=\"x_label\">g</desc></g></g><g class=\"series serie-3 color-3\"><g class=\"dots\"><circle cx=\"12.338461538461539\" cy=\"14.160482352385145\" r=\"2.5\" class=\"dot reactive tooltip-trigger\"/><desc class=\"value\">0.4959999919</desc><desc class=\"x \">12.338461538461539</desc><desc class=\"y \">14.160482352385145</desc><desc class=\"x_label\">a</desc></g><g class=\"dots\"><circle cx=\"74.03076923076924\" cy=\"120.42395294103454\" r=\"2.5\" class=\"dot reactive tooltip-trigger\"/><desc class=\"value\">0.4069999814</desc><desc class=\"x \">74.03076923076924</desc><desc class=\"y \">120.42395294103454</desc><desc class=\"x_label\">b</desc></g><g class=\"dots\"><circle cx=\"135.72307692307695\" cy=\"120.42395294103454\" r=\"2.5\" class=\"dot reactive tooltip-trigger\"/><desc class=\"value\">0.4069999814</desc><desc class=\"x \">135.72307692307695</desc><desc class=\"y \">120.42395294103454</desc><desc class=\"x_label\">c</desc></g><g class=\"dots\"><circle cx=\"197.41538461538462\" cy=\"120.42395294103454\" r=\"2.5\" class=\"dot reactive tooltip-trigger\"/><desc class=\"value\">0.4069999814</desc><desc class=\"x \">197.41538461538462</desc><desc class=\"y \">120.42395294103454</desc><desc class=\"x_label\">d</desc></g><g class=\"dots\"><circle cx=\"259.10769230769233\" cy=\"120.42395294103454\" r=\"2.5\" class=\"dot reactive tooltip-trigger\"/><desc class=\"value\">0.4069999814</desc><desc class=\"x \">259.10769230769233</desc><desc class=\"y \">120.42395294103454</desc><desc class=\"x_label\">e</desc></g><g class=\"dots\"><circle cx=\"320.8\" cy=\"120.42395294103454\" r=\"2.5\" class=\"dot reactive tooltip-trigger\"/><desc class=\"value\">0.4069999814</desc><desc class=\"x \">320.8</desc><desc class=\"y \">120.42395294103454</desc><desc class=\"x_label\">f</desc></g><g class=\"dots\"><circle cx=\"382.4923076923077\" cy=\"64.30730612932206\" r=\"2.5\" class=\"dot reactive tooltip-trigger\"/><desc class=\"value\">0.4539999723</desc><desc class=\"x left\">382.4923076923077</desc><desc class=\"y left\">64.30730612932206</desc><desc class=\"x_label\">g</desc></g><g class=\"dots\"><circle cx=\"444.18461538461537\" cy=\"22.518274454167397\" r=\"2.5\" class=\"dot reactive tooltip-trigger\"/><desc class=\"value\">0.4889999986</desc><desc class=\"x left\">444.18461538461537</desc><desc class=\"y left\">22.518274454167397</desc></g><g class=\"dots\"><circle cx=\"505.87692307692316\" cy=\"9.384615384615415\" r=\"2.5\" class=\"dot reactive tooltip-trigger\"/><desc class=\"value\">0.4999999762</desc><desc class=\"x left\">505.87692307692316</desc><desc class=\"y left\">9.384615384615415</desc></g><g class=\"dots\"><circle cx=\"567.5692307692308\" cy=\"109.67817753899703\" r=\"2.5\" class=\"dot reactive tooltip-trigger\"/><desc class=\"value\">0.4160000086</desc><desc class=\"x left\">567.5692307692308</desc><desc class=\"y left\">109.67817753899703</desc></g><g class=\"dots\"><circle cx=\"629.2615384615384\" cy=\"88.18668366791661\" r=\"2.5\" class=\"dot reactive tooltip-trigger\"/><desc class=\"value\">0.4340000153</desc><desc class=\"x left\">629.2615384615384</desc><desc class=\"y left\">88.18668366791661</desc></g></g></g><g transform=\"translate(138, 46)\" class=\"plot text-overlay\"><g class=\"series serie-0 color-0\"/><g class=\"series serie-1 color-1\"/><g class=\"series serie-2 color-2\"/><g class=\"series serie-3 color-3\"/></g><g transform=\"translate(138, 46)\" class=\"plot tooltip-overlay\"><g transform=\"translate(0 0)\" style=\"opacity: 0\" class=\"tooltip\"><rect rx=\"0\" ry=\"0\" width=\"0\" height=\"0\" class=\"tooltip-box\"/><g class=\"text\"/></g></g><g transform=\"translate(10, 56)\" class=\"legends\"><g id=\"activate-serie-0\" class=\"legend reactive activate-serie\"><rect x=\"0.0\" y=\"1.0\" width=\"12\" height=\"12\" class=\"color-0 reactive\"/><text x=\"17.0\" y=\"11.2\">run-01</text></g><g id=\"activate-serie-1\" class=\"legend reactive activate-serie\"><rect x=\"0.0\" y=\"22.0\" width=\"12\" height=\"12\" class=\"color-1 reactive\"/><text x=\"17.0\" y=\"32.2\">run-02</text></g><g id=\"activate-serie-2\" class=\"legend reactive activate-serie\"><rect x=\"0.0\" y=\"43.0\" width=\"12\" height=\"12\" class=\"color-2 reactive\"/><text x=\"17.0\" y=\"53.2\">run-03</text></g><g id=\"activate-serie-3\" class=\"legend reactive activate-serie\"><rect x=\"0.0\" y=\"64.0\" width=\"12\" height=\"12\" class=\"color-3 reactive\"/><text x=\"17.0\" y=\"74.2\">run-04</text></g></g><g transform=\"translate(790, 56)\" class=\"legends\"/></g></svg>'"
      ]
     },
     "execution_count": 92,
     "metadata": {},
     "output_type": "execute_result"
    }
   ],
   "source": [
    "make_chart(data_yaml).render()"
   ]
  },
  {
   "cell_type": "markdown",
   "metadata": {},
   "source": [
    "![poop](http://localhost:5000/line-chart/tall-josh/metrics-svg/master/test/train-acc.yaml)\n",
    "\n"
   ]
  },
  {
   "cell_type": "markdown",
   "metadata": {},
   "source": [
    "![dfs](example.svg)"
   ]
  },
  {
   "cell_type": "code",
   "execution_count": 45,
   "metadata": {},
   "outputs": [
    {
     "data": {
      "text/plain": [
       "'test/train-acc.yaml'"
      ]
     },
     "execution_count": 45,
     "metadata": {},
     "output_type": "execute_result"
    }
   ],
   "source": [
    "path"
   ]
  },
  {
   "cell_type": "markdown",
   "metadata": {},
   "source": [
    "![shield](https://img.shields.io/badge/coverage-80%25-yellowgreen)"
   ]
  },
  {
   "cell_type": "code",
   "execution_count": null,
   "metadata": {},
   "outputs": [],
   "source": []
  }
 ],
 "metadata": {
  "kernelspec": {
   "display_name": "Python 3",
   "language": "python",
   "name": "python3"
  },
  "language_info": {
   "codemirror_mode": {
    "name": "ipython",
    "version": 3
   },
   "file_extension": ".py",
   "mimetype": "text/x-python",
   "name": "python",
   "nbconvert_exporter": "python",
   "pygments_lexer": "ipython3",
   "version": "3.7.6"
  }
 },
 "nbformat": 4,
 "nbformat_minor": 4
}
