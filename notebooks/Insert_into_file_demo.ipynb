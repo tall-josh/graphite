{
 "cells": [
  {
   "cell_type": "markdown",
   "metadata": {
    "id": "4uE_8fqYBDmT"
   },
   "source": [
    "# Intro Intro\n",
    "\n",
    "The following is an example workflow using the Chartist cli. The goal of Chartis is to provide a similar service to that of [Shileds IO](https://github.com/badges/shields)... you know, ![shield](https://img.shields.io/badge/these-things-f39f37) but for simple charts. For a run through of the basic functionality see the demo notebook here <a href=\"https://colab.research.google.com/github.com/tall-josh/plotypus/blob/master/notebooks/Yamgal_Demo_Notebook.ipynb\" target=\"_blank\"><img src=\"https://camo.githubusercontent.com/52feade06f2fecbf006889a904d221e6a730c194/68747470733a2f2f636f6c61622e72657365617263682e676f6f676c652e636f6d2f6173736574732f636f6c61622d62616467652e737667\" alt=\"Open In Colab\" data-canonical-src=\"https://colab.research.google.com/assets/colab-badge.svg\"></a>. I made this with tracking and displaying Machine Learning project metrics in you git repo's README.md so that the case I'll mock you here. I'd love to see what others use if for.\n",
    "\n",
    "---\n",
    "\n",
    "# Regular Intro\n",
    "\n",
    "Size of bulky png's weighing you donw? Still displaying charts as pngs like a shmuck!!!??? STOP IT, use Chartist instead.\n",
    "\n",
    "  - No more checking in whole new pngs when you add a datapoint\n",
    "  - Chartist urls track state so you don't have to\n",
    "  - Choose for multiple different styles\n",
    "  - Format the chart right in the url\n",
    "  - Other stuff I haven't thought of yet\n",
    "\n",
    "Say you have a project with some metrics you want to visulaize in a chart. Say you want said chart to show up in your repo's README (or any other Markdown/HTML for that matter, go nuts you crazy kids!). Typlically you'd generate a chart, save it as a png/jpg/svg or some sh💩t then check it in. With Chartist you build the data right into the url to generate the chart.\n",
    "\n",
    "Let's get started with some imports\n"
   ]
  },
  {
   "cell_type": "code",
   "execution_count": null,
   "metadata": {
    "colab": {
     "base_uri": "https://localhost:8080/",
     "height": 34
    },
    "id": "Ucjh09L_A42J",
    "outputId": "088d9529-66c0-4701-b3c9-70a0e01cb404"
   },
   "outputs": [],
   "source": [
    "from IPython.display import Markdown as md\n",
    "\n",
    "# Install Chartist if running in Google Colab\n",
    "if 'google.colab' in str(get_ipython()):\n",
    "  print('Running on CoLab, installing Chartist from git.')\n",
    "  try:\n",
    "    from chartist.chart import Chartist\n",
    "  except ImportError:\n",
    "    !pip install git+https://github.com/tall-josh/plotypus.git\n",
    "else:\n",
    "   print('Not running on CoLab, presumably you already have Chartist installed.')\n",
    "   from chartist.chart import Chartist"
   ]
  },
  {
   "cell_type": "markdown",
   "metadata": {
    "id": "9PwxgyJyJu0n"
   },
   "source": [
    "\n",
    "Some variables for later"
   ]
  },
  {
   "cell_type": "code",
   "execution_count": null,
   "metadata": {
    "id": "jrjQR6vs9p75"
   },
   "outputs": [],
   "source": [
    "ENDPOINT = 'https://yamgal-server-c6l3dwv2sq-de.a.run.app' \n",
    "README = 'README.md'\n",
    "DATA = 'data.yaml'\n",
    "CONFIG = 'config.yaml'"
   ]
  },
  {
   "cell_type": "markdown",
   "metadata": {
    "id": "e33TIyMFJ3uf"
   },
   "source": [
    "\n",
    "Write a sample `README.md`\n",
    "\n",
    "Note below:\n",
    "\n",
    "  - The existing image tags have dummy src urls, we'll fill them in later\n",
    "  - the `alt` text is what Chartist uses to match when updating charts. In this case `my_metric`"
   ]
  },
  {
   "cell_type": "code",
   "execution_count": null,
   "metadata": {
    "colab": {
     "base_uri": "https://localhost:8080/",
     "height": 34
    },
    "id": "OVr6R3u39p7_",
    "outputId": "0219d77f-9c00-4893-e13b-4e7c6aef7b30"
   },
   "outputs": [],
   "source": [
    "%%writefile {README}\n",
    "# My Model\n",
    "\n",
    "It draws boxes around shit! It draws them good. You could use Markdown or HTML\n",
    "style image insert tags, we'll use HTML because this allows us to resize.\n",
    "\n",
    "# Training History\n",
    "\n",
    "<img src=\"http://something:....\" alt=\"my_metric\" height=\"500\" width=\"500\" >\n",
    "\n",
    "The end"
   ]
  },
  {
   "cell_type": "markdown",
   "metadata": {
    "id": "RNzmSxMa9p8G"
   },
   "source": [
    "Write a sample data file to simulate the metrics you wish to visualize"
   ]
  },
  {
   "cell_type": "code",
   "execution_count": null,
   "metadata": {
    "colab": {
     "base_uri": "https://localhost:8080/",
     "height": 34
    },
    "id": "T9sWAazz9p8H",
    "outputId": "2bfb6eb9-7e82-4f24-cf08-9ff264535648"
   },
   "outputs": [],
   "source": [
    "%%writefile {DATA}\n",
    "range_name:\n",
    "  - 0.9\n",
    "  - 0.7\n",
    "  - 0.3\n",
    "  - 0.1\n",
    "  - 0.02\n",
    "  - 0.01"
   ]
  },
  {
   "cell_type": "markdown",
   "metadata": {
    "id": "5stFE06jMyer"
   },
   "source": [
    "Write a simple configuration. This is optional, more info here <a href=\"https://colab.research.google.com/github.com/tall-josh/plotypus/blob/master/notebooks/Yamgal_Demo_Notebook.ipynb\" target=\"_blank\"><img src=\"https://camo.githubusercontent.com/52feade06f2fecbf006889a904d221e6a730c194/68747470733a2f2f636f6c61622e72657365617263682e676f6f676c652e636f6d2f6173736574732f636f6c61622d62616467652e737667\" alt=\"Open In Colab\" data-canonical-src=\"https://colab.research.google.com/assets/colab-badge.svg\"></a>"
   ]
  },
  {
   "cell_type": "code",
   "execution_count": null,
   "metadata": {
    "colab": {
     "base_uri": "https://localhost:8080/",
     "height": 34
    },
    "id": "NApkvDFY9p8L",
    "outputId": "9a1fea09-4a17-4056-8243-5c9f08b12ff3"
   },
   "outputs": [],
   "source": [
    "%%writefile {CONFIG}\n",
    "title: Training Logs \n",
    "style: neon"
   ]
  },
  {
   "cell_type": "markdown",
   "metadata": {
    "id": "3EVyOq-X9p8S"
   },
   "source": [
    "We can generate a Chartist url using `yamgal.make_chartist_string` and insert them into the markdown text using `yamgal.find_and_replace_chart`. Add a function like this to your git pre-commit hook to automate updating your charts."
   ]
  },
  {
   "cell_type": "code",
   "execution_count": null,
   "metadata": {
    "id": "Ey57RRrz9p8S"
   },
   "outputs": [],
   "source": [
    "import ruamel.yaml as yaml\n",
    "\n",
    "# Put a function named `load_data` in .chartist/load_data.py\n",
    "# and Chartist will load\n",
    "def load_data(data_path):\n",
    "    with open(data_path, 'r') as f:\n",
    "        chart_data = yaml.round_trip_load(f)\n",
    "    return chart_data\n",
    "    \n",
    "chart = Chartist.from_data_file('line',\n",
    "                                DATA,\n",
    "                                load_data,\n",
    "                                config_path=CONFIG,\n",
    "                                endpoint=ENDPOINT\n",
    "                               )\n"
   ]
  },
  {
   "cell_type": "markdown",
   "metadata": {
    "id": "8aipsJUq9p8W"
   },
   "source": [
    "We can now insert this into the Markdown document. Note:\n",
    "\n",
    "  - Chartist attampts to make the url as short as it can by removing un-necessary zeros from floats and clipping the number of decimal points."
   ]
  },
  {
   "cell_type": "code",
   "execution_count": null,
   "metadata": {
    "colab": {
     "base_uri": "https://localhost:8080/",
     "height": 187
    },
    "id": "1aXg_BWI9p8X",
    "outputId": "e327f3aa-8087-4a3d-9c43-c535c00b6263"
   },
   "outputs": [],
   "source": [
    "alt_text = 'my_metric'\n",
    "\n",
    "with open(README, 'r') as f:\n",
    "    text = f.read()\n",
    "    \n",
    "new_text = chart.insert_into_text(text, alt_text)\n",
    "print(new_text)"
   ]
  },
  {
   "cell_type": "code",
   "execution_count": null,
   "metadata": {
    "colab": {
     "base_uri": "https://localhost:8080/",
     "height": 683
    },
    "id": "4wPS6mD69p8b",
    "outputId": "7424c4b9-b040-4ccd-b243-6f2a84ea44d8"
   },
   "outputs": [],
   "source": [
    "display(md(new_text))"
   ]
  },
  {
   "cell_type": "markdown",
   "metadata": {
    "id": "ZO5KQ44P9p8e"
   },
   "source": [
    "After some time we get the next set metrics. We can add this to\n",
    "the existing chart. \n",
    "\n",
    "Because the previous data is already in the existing Chartist url we can read it back into a Chartist.chart object, append the new range and write the url back into the README.\n",
    "\n",
    "Note: Chartist recognizes ranges of the same name and add an iterator `_00, _01 ... _0n` to them accordingly."
   ]
  },
  {
   "cell_type": "code",
   "execution_count": null,
   "metadata": {
    "colab": {
     "base_uri": "https://localhost:8080/",
     "height": 34
    },
    "id": "9M9E_9Ti9p8f",
    "outputId": "a0eac1e0-e370-4391-f7d1-6092c092f457"
   },
   "outputs": [],
   "source": [
    "%%writefile {DATA}\n",
    "range_name:\n",
    "  - 0.9\n",
    "  - 0.6\n",
    "  - 0.1\n",
    "  - 0.05\n",
    "  - 0.01\n",
    "  - 0.01"
   ]
  },
  {
   "cell_type": "code",
   "execution_count": null,
   "metadata": {
    "colab": {
     "base_uri": "https://localhost:8080/",
     "height": 207
    },
    "id": "T5X8ygeC9p8i",
    "outputId": "85a4f2a8-64d2-46eb-dd92-0f4fbce42ec3"
   },
   "outputs": [],
   "source": [
    "new_data = load_data(DATA)\n",
    "\n",
    "# load existing chart from text\n",
    "chart = Chartist.from_text(new_text, alt_text)\n",
    "chart.add_ranges(new_data)\n",
    "new_text = chart.insert_into_text(new_text, alt_text)\n",
    "print(new_text)"
   ]
  },
  {
   "cell_type": "code",
   "execution_count": null,
   "metadata": {
    "colab": {
     "base_uri": "https://localhost:8080/",
     "height": 683
    },
    "id": "ITO6zCbc9p8o",
    "outputId": "aecdb876-a86d-40e0-dff6-e409ad3fb194"
   },
   "outputs": [],
   "source": [
    "display(md(new_text))"
   ]
  },
  {
   "cell_type": "markdown",
   "metadata": {
    "id": "EBfMyzWI9p8s"
   },
   "source": [
    "You can also just append points to ranges"
   ]
  },
  {
   "cell_type": "code",
   "execution_count": null,
   "metadata": {
    "colab": {
     "base_uri": "https://localhost:8080/",
     "height": 34
    },
    "id": "rPBoFdPf9p8s",
    "outputId": "fe2aefa0-9f59-4516-ad54-bfcd1328f958"
   },
   "outputs": [],
   "source": [
    "%%writefile {DATA}\n",
    "range_name_00:\n",
    "  - 0.01\n",
    "  - 0.01\n",
    "range_name_01:\n",
    "  - 0.1\n",
    "  - 0.2"
   ]
  },
  {
   "cell_type": "code",
   "execution_count": null,
   "metadata": {
    "colab": {
     "base_uri": "https://localhost:8080/",
     "height": 207
    },
    "id": "Uqwuxu529p8w",
    "outputId": "014faa52-70b4-470d-a839-a9545df08881"
   },
   "outputs": [],
   "source": [
    "new_points = load_data(DATA)\n",
    "\n",
    "chart = Chartist.from_text(new_text, alt_text)\n",
    "chart.append_to_ranges(new_points)\n",
    "new_text = chart.insert_into_text(new_text, alt_text)\n",
    "print(new_text)"
   ]
  },
  {
   "cell_type": "code",
   "execution_count": null,
   "metadata": {
    "colab": {
     "base_uri": "https://localhost:8080/",
     "height": 683
    },
    "id": "iEwkEj5r9p8z",
    "outputId": "6c59fc69-aa69-4ac2-bfa4-487e66708c21"
   },
   "outputs": [],
   "source": [
    "display(md(new_text))"
   ]
  }
 ],
 "metadata": {
  "colab": {
   "name": "Insert into file demo.ipynb",
   "provenance": []
  },
  "kernelspec": {
   "display_name": "Python 3",
   "language": "python",
   "name": "python3"
  },
  "language_info": {
   "codemirror_mode": {
    "name": "ipython",
    "version": 3
   },
   "file_extension": ".py",
   "mimetype": "text/x-python",
   "name": "python",
   "nbconvert_exporter": "python",
   "pygments_lexer": "ipython3",
   "version": "3.7.8"
  }
 },
 "nbformat": 4,
 "nbformat_minor": 0
}
