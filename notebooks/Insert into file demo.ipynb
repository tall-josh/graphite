{
 "cells": [
  {
   "cell_type": "code",
   "execution_count": null,
   "metadata": {},
   "outputs": [],
   "source": [
    "\n",
    "from chartist.chart import Chartist\n",
    "from IPython.display import Markdown as md"
   ]
  },
  {
   "cell_type": "markdown",
   "metadata": {},
   "source": [
    "# Intro\n",
    "\n",
    "Below is an example workflow using the Chartist cli\n",
    "\n",
    "Say you have a chart displaying loss curves and evaluation metrics in the\n",
    "README of a model's repo. For the purposes of the demo we'll keep the Markdown\n",
    "in a string variable so we can operate on it, but IRL you'd probs read the file \n",
    "into memory as some point...or not, your choice, I'm not your mum.\n",
    "\n",
    "Note below:\n",
    "\n",
    "  - The existing image tags have dummy src urls\n",
    "  - the `alt` text is what Chartist uses to match when updating charts"
   ]
  },
  {
   "cell_type": "code",
   "execution_count": null,
   "metadata": {},
   "outputs": [],
   "source": [
    "endpoint = 'https://yamgal-server-c6l3dwv2sq-de.a.run.app'\n",
    "demo_md = 'demo.md'\n",
    "data_yaml = 'data.yaml'\n",
    "config_yaml = 'config.yaml'"
   ]
  },
  {
   "cell_type": "code",
   "execution_count": null,
   "metadata": {},
   "outputs": [],
   "source": [
    "%%writefile {demo_md}\n",
    "# My Model\n",
    "\n",
    "It draws boxes around shit! It draws them good. You could use Markdown or HTML\n",
    "style image insert tags, we'll use HTML because this allows us to resize.\n",
    "\n",
    "# Training History\n",
    "\n",
    "<img src=\"http://something:....\" alt=\"training_loss\" height=\"500\" width=\"500\" >\n",
    "\n",
    "The end"
   ]
  },
  {
   "cell_type": "markdown",
   "metadata": {},
   "source": [
    "You train your model and end up with a training curve and a metric value"
   ]
  },
  {
   "cell_type": "code",
   "execution_count": null,
   "metadata": {},
   "outputs": [],
   "source": [
    "%%writefile {data_yaml}\n",
    "training_loss:\n",
    "  - 0.9\n",
    "  - 0.7\n",
    "  - 0.3\n",
    "  - 0.1\n",
    "  - 0.02\n",
    "  - 0.01"
   ]
  },
  {
   "cell_type": "code",
   "execution_count": null,
   "metadata": {},
   "outputs": [],
   "source": [
    "%%writefile {config_yaml}\n",
    "title: Training Logs\n",
    "style: neon"
   ]
  },
  {
   "cell_type": "markdown",
   "metadata": {},
   "source": [
    "We can generate a Chartist url using `yamgal.make_chartist_string` and insert them into the markdown text using `yamgal.find_and_replace_chart`"
   ]
  },
  {
   "cell_type": "code",
   "execution_count": null,
   "metadata": {},
   "outputs": [],
   "source": [
    "import ruamel.yaml as yaml\n",
    "\n",
    "def load_data(data_path):\n",
    "    with open(data_path, 'r') as f:\n",
    "        chart_data = yaml.round_trip_load(f)\n",
    "    return chart_data\n",
    "    \n",
    "chart = Chartist.from_data_file('line',\n",
    "                                data_yaml,\n",
    "                                load_data,\n",
    "                                config_path=config_yaml,\n",
    "                                endpoint=endpoint\n",
    "                               )\n"
   ]
  },
  {
   "cell_type": "markdown",
   "metadata": {},
   "source": [
    "We can now insert this into the Markdown document."
   ]
  },
  {
   "cell_type": "code",
   "execution_count": null,
   "metadata": {},
   "outputs": [],
   "source": [
    "alt_text = 'training_loss'\n",
    "\n",
    "with open(demo_md, 'r') as f:\n",
    "    text = f.read()\n",
    "    \n",
    "new_text = chart.insert_into_text(text, alt_text)\n",
    "print(new_text)"
   ]
  },
  {
   "cell_type": "code",
   "execution_count": null,
   "metadata": {},
   "outputs": [],
   "source": [
    "display(md(new_text))"
   ]
  },
  {
   "cell_type": "markdown",
   "metadata": {},
   "source": [
    "Next we do another training run and get another loss curve. We can add this to\n",
    "the existing chart in the Markdown"
   ]
  },
  {
   "cell_type": "code",
   "execution_count": null,
   "metadata": {},
   "outputs": [],
   "source": [
    "%%writefile {data_yaml}\n",
    "training_loss:\n",
    "  - 0.9\n",
    "  - 0.6\n",
    "  - 0.1\n",
    "  - 0.05\n",
    "  - 0.01\n",
    "  - 0.01"
   ]
  },
  {
   "cell_type": "code",
   "execution_count": null,
   "metadata": {},
   "outputs": [],
   "source": [
    "new_data = load_data(data_yaml)\n",
    "\n",
    "# load existing chart from text\n",
    "chart = Chartist.from_text(new_text, alt_text)\n",
    "chart.add_ranges(new_data)\n",
    "new_text = chart.insert_into_text(new_text, alt_text)\n",
    "print(new_text)"
   ]
  },
  {
   "cell_type": "code",
   "execution_count": null,
   "metadata": {},
   "outputs": [],
   "source": [
    "display(md(new_text))"
   ]
  },
  {
   "cell_type": "markdown",
   "metadata": {},
   "source": [
    "You can also just append points to ranges"
   ]
  },
  {
   "cell_type": "code",
   "execution_count": null,
   "metadata": {},
   "outputs": [],
   "source": [
    "%%writefile {data_yaml}\n",
    "training_loss_00:\n",
    "  - 0.01\n",
    "  - 0.01\n",
    "training_loss_01:\n",
    "  - 0.1\n",
    "  - 0.2"
   ]
  },
  {
   "cell_type": "code",
   "execution_count": null,
   "metadata": {},
   "outputs": [],
   "source": [
    "new_points = load_data(data_yaml)\n",
    "\n",
    "chart = Chartist.from_text(new_text, alt_text)\n",
    "chart.append_to_ranges(new_points)\n",
    "new_text = chart.insert_into_text(new_text, alt_text)\n",
    "print(new_text)"
   ]
  },
  {
   "cell_type": "code",
   "execution_count": null,
   "metadata": {},
   "outputs": [],
   "source": [
    "display(md(new_text))"
   ]
  },
  {
   "cell_type": "code",
   "execution_count": null,
   "metadata": {},
   "outputs": [],
   "source": []
  }
 ],
 "metadata": {
  "kernelspec": {
   "display_name": "Python 3",
   "language": "python",
   "name": "python3"
  },
  "language_info": {
   "codemirror_mode": {
    "name": "ipython",
    "version": 3
   },
   "file_extension": ".py",
   "mimetype": "text/x-python",
   "name": "python",
   "nbconvert_exporter": "python",
   "pygments_lexer": "ipython3",
   "version": "3.7.8"
  }
 },
 "nbformat": 4,
 "nbformat_minor": 4
}
